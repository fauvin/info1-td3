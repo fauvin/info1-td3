{
 "cells": [
  {
   "cell_type": "markdown",
   "metadata": {},
   "source": [
    "# Conjecture de Syracuse"
   ]
  },
  {
   "cell_type": "markdown",
   "metadata": {},
   "source": [
    "_L'objectif de cette partie est de prolonger la « ceinture noire » du précédent td._"
   ]
  },
  {
   "cell_type": "markdown",
   "metadata": {},
   "source": [
    "On définit la **suite de Syracuse** par la donnée d’un entier naturel $u_0$ et la relation de récurrence :\n",
    "- $u_{n+1}=\\dfrac{u_n}{2}$  si  $n$ est pair\n",
    "\n",
    "\n",
    "- $u_{n+1}=3\\cdot u_n+1$ si $n$ est impair\n",
    "\n",
    "Une conjecture <sup>[1](#footnote1)</sup> affirme que, pour tout entier $u_0\\gt 0$\n",
    "il existe un entier $n\\in \\mathbb{N}$ tel que $u_n=1$."
   ]
  },
  {
   "cell_type": "markdown",
   "metadata": {},
   "source": [
    "1.  $u_0$ étant supposé donné, écrivez un programme qui détermine le plus petit entier pour lequel $u_n=1$.<br>Testez-le avec la valeur $u_0=7$"
   ]
  },
  {
   "cell_type": "code",
   "execution_count": null,
   "metadata": {},
   "outputs": [],
   "source": [
    "# votre code ici (CONTROL+ENTRÉE pour l'exécuter)\n"
   ]
  },
  {
   "cell_type": "markdown",
   "metadata": {},
   "source": [
    "2. Le nombre que ce programme calcule est appelé **temps de vol** de l’entier $u_0$.<br>Modifier votre programme pour qu’il affiche le temps de vol de tous les entiers inférieurs à 100."
   ]
  },
  {
   "cell_type": "code",
   "execution_count": null,
   "metadata": {},
   "outputs": [],
   "source": [
    "# votre code ici\n"
   ]
  },
  {
   "cell_type": "markdown",
   "metadata": {},
   "source": [
    "3.  La valeur maximale atteinte par $u_n$ lors du **vol** est appelée **hauteur de vol**.<br>Modifiez votre programme pour qu’il calcule et affiche aussi la hauteur de vol de tous les entiers inférieur à 50 sur le modèle :\n",
    "```\n",
    "             u0 |   temps | hauteur\n",
    "        ===========================\n",
    "              1 |       0 |       1\n",
    "              2 |       1 |       2\n",
    "              3 |       7 |      16\n",
    "            ... |     ... |     ...\n",
    "```"
   ]
  },
  {
   "cell_type": "code",
   "execution_count": null,
   "metadata": {},
   "outputs": [],
   "source": [
    "# votre code ici\n"
   ]
  },
  {
   "cell_type": "markdown",
   "metadata": {},
   "source": [
    "4.   Modifiez votre programme pour qu’il calcule les temps et hauteur de vol de chaque entier jusqu’au premier dont la hauteur dépassera $2^{16}$.<br>Ce programme affichera uniquement la valeur de l’entier trouvé ainsi que ses temps et hauteur de vol (sur le même modèle qu’à la question précédente)."
   ]
  },
  {
   "cell_type": "code",
   "execution_count": null,
   "metadata": {},
   "outputs": [],
   "source": [
    "# votre code ici\n"
   ]
  },
  {
   "cell_type": "markdown",
   "metadata": {},
   "source": [
    "<span id='footnote1'>[1](#_blank \"Conjecture de Syracuse\") La conjecture de Syracuse, nommée ainsi car elle a été présentée\n",
    "pour la première fois de façon publique à l’Université de Syracuse (USA,\n",
    "État de New-York) en 1952, reste à ce jour une conjecture. Elle n’a pas\n",
    "été démontrée ni infirmée, malgré les efforts de nombreux et brillants\n",
    "mathématiciens depuis plusieurs dizaines d’années.</span>\n"
   ]
  },
  {
   "cell_type": "markdown",
   "metadata": {},
   "source": [
    "# Le lièvre et la tortue"
   ]
  },
  {
   "cell_type": "markdown",
   "metadata": {},
   "source": [
    "Un lièvre et une tortue font une course probabiliste. Le lièvre lance un dé et :\n",
    "- si le 6 sort, le lièvre gagne ;\n",
    "- sinon, la tortue avance d’une case; \n",
    "- si la tortue avance de 6 cases, elle gagne.\n",
    "\n",
    "On continue le jeu jusqu'à ce qu’il y ait un gagnant."
   ]
  },
  {
   "cell_type": "markdown",
   "metadata": {},
   "source": [
    "5. Implémentez votre programme. Celui-ci se terminera sur l'affichage du nom du gagnant de la course."
   ]
  },
  {
   "cell_type": "code",
   "execution_count": null,
   "metadata": {},
   "outputs": [],
   "source": [
    "# votre code ici\n"
   ]
  },
  {
   "cell_type": "markdown",
   "metadata": {},
   "source": [
    "6. Après plusieurs exécutions du programme, les chances de chacun de gagner la course vous semblent-t-elles équilibrées ?\n",
    "<br>Modifiez le programme pour simuler 10.000 courses. Le programme affichera le nombre de fois où la tortue a gagné sur l'ensemble des courses."
   ]
  },
  {
   "cell_type": "code",
   "execution_count": null,
   "metadata": {},
   "outputs": [],
   "source": [
    "# votre code ici\n"
   ]
  },
  {
   "cell_type": "markdown",
   "metadata": {},
   "source": [
    "7. Exécutez plusieurs fois le programme. Confirmez-vous votre réponse à la question 3 ?"
   ]
  },
  {
   "cell_type": "markdown",
   "metadata": {},
   "source": [
    "# Pour les rapides : l'hyperfactorielle"
   ]
  },
  {
   "cell_type": "markdown",
   "metadata": {},
   "source": [
    "Dans l'hyperespace, la factorielle d'un entier $n$ se transforme en hyperfactorielle. <br>\n",
    "Celle-ci est définie par la relation :$$H(n)=\\prod_{k=1}^{n}k^k$$"
   ]
  },
  {
   "cell_type": "markdown",
   "metadata": {},
   "source": [
    "8. Écrivez un programme qui calcule l'hyperfactorielle d'un entier $n$ donné et affiche le résultat obtenu (on initialisera $n$ à la valeur 7)."
   ]
  },
  {
   "cell_type": "code",
   "execution_count": null,
   "metadata": {},
   "outputs": [],
   "source": [
    "# votre code ici\n"
   ]
  },
  {
   "cell_type": "markdown",
   "metadata": {},
   "source": [
    "9. Modifiez votre programme pour qu'il calcule l'hyperfactorielle des entiers entre 1 et 10 et affiche les résultats au fur et à mesure sous la forme :\n",
    "```\n",
    "\t nombre | hyperfactorielle\n",
    "\t==========================\n",
    "\t   1    |        1\n",
    "\t   2    |        4\n",
    "\t   3    |       108\n",
    "\t  ...   |       ...\n",
    "```"
   ]
  },
  {
   "cell_type": "code",
   "execution_count": null,
   "metadata": {},
   "outputs": [],
   "source": [
    "# votre code ici\n"
   ]
  },
  {
   "cell_type": "markdown",
   "metadata": {},
   "source": [
    "# Pour les ultra-rapides : défis"
   ]
  },
  {
   "cell_type": "markdown",
   "metadata": {},
   "source": [
    "Sophos s’entraîne sagement à la programmation avec la tortue Logo.<br>\n",
    "Son ami Ichnos lui lance un défi : réaliser chacune des figures ci-dessous en un minimum de lignes.<br>\n",
    "Aidez Sophos à relever le défi.\n",
    "\n",
    "<table>\n",
    "    <tr style=\"background-color: #ffffff;\">\n",
    "        <td><img src=\"carre.png\" style=\"width:80px;\"></td>\n",
    "        <td><img src=\"triangle.png\" style=\"width:100px;\"></td>\n",
    "        <td><img src=\"etoile.png\" style=\"width:120px;\"></td>\n",
    "        <td><img src=\"rosace.png\" style=\"width:120px;\"></td>\n",
    "        <td><img src=\"etoile6.png\" style=\"width:120px;\"></td>\n",
    "     </tr>\n",
    "<table>\n",
    "\n"
   ]
  },
  {
   "cell_type": "code",
   "execution_count": null,
   "metadata": {},
   "outputs": [],
   "source": [
    "%%capture\n",
    "# commencer par exécuter une fois cette cellule de code\n",
    "# attendre patiemment la disparition de l'étoile [*] ...\n",
    "!pip install calysto\n",
    "from calysto.graphics import *\n",
    "from calysto.display import display"
   ]
  },
  {
   "cell_type": "code",
   "execution_count": null,
   "metadata": {},
   "outputs": [],
   "source": [
    "# démonstration de la tortue Logo\n",
    "canvas = Canvas(size=(400, 400))\n",
    "turtle = Turtle(canvas, (200, 200), 0)\n",
    "turtle.forward(50)  # la tortue avance de 50\n",
    "turtle.left(90)     # la tortue tourne de 90 degrés (sens anti-horaire)  \n",
    "turtle.penup()      # on lève le crayon\n",
    "turtle.forward(100) # la tortue avance de 100\n",
    "turtle.right(30)    # la tortue tourne de 30 degrés (sens horaire)\n",
    "turtle.pendown()    # on baisse le crayon\n",
    "turtle.backward(60) # la tortue recule de 60\n",
    "turtle.left(90)     # la tortue tourne de 90 degrés (sens horaire)\n",
    "turtle.forward(50)  # la tortue avance de 50\n",
    "display(canvas)     # affichage du résultat"
   ]
  },
  {
   "cell_type": "markdown",
   "metadata": {},
   "source": [
    "**Indication**  \n",
    "Voici une liste non-exhaustive des instructions à destination de la tortue :  \n",
    "  \n",
    "\n",
    "<table>\n",
    "<tbody>\n",
    "<tr style=\"background-color: #ffffff;\">\n",
    "<td style=\"text-align: left;\"><code>.forward(n)</code></td>\n",
    "<td style=\"text-align: left;\"><em>avance de n (en pixels), le trait est dessiné si le crayon est baissé</em></td>\n",
    "</tr>\n",
    "<tr style=\"background-color: #ffffff;\">\n",
    "<td style=\"text-align: left;\"><code>.backward(n)</code></td>\n",
    "<td style=\"text-align: left;\"><em>recule de n (en pixels), le trait est dessiné si le crayon est baissé</em></td>\n",
    "</tr>\n",
    "<tr style=\"background-color: #ffffff;\">\n",
    "<td style=\"text-align: left;\"><code>.left(r)</code></td>\n",
    "<td style=\"text-align: left;\"><em>tourne à gauche de n degrés</em></td>\n",
    "</tr>\n",
    "<tr style=\"background-color: #ffffff;\">\n",
    "<td style=\"text-align: left;\"><code>.right(r)</code></td>\n",
    "<td style=\"text-align: left;\"><em>tourne à droite de n degrés</em></td>\n",
    "</tr>\n",
    "</tbody>\n",
    "</table>"
   ]
  },
  {
   "cell_type": "markdown",
   "metadata": {},
   "source": [
    "**À vous de jouer**\n",
    "10. Programmer le dessin ![](carre.png)"
   ]
  },
  {
   "cell_type": "code",
   "execution_count": 31,
   "metadata": {},
   "outputs": [],
   "source": [
    "# votre code ici\n"
   ]
  },
  {
   "cell_type": "markdown",
   "metadata": {},
   "source": [
    "11. Programmer le dessin ![](triangle.png)"
   ]
  },
  {
   "cell_type": "code",
   "execution_count": 32,
   "metadata": {},
   "outputs": [],
   "source": [
    "# votre code ici\n"
   ]
  },
  {
   "cell_type": "markdown",
   "metadata": {},
   "source": [
    "12. Programmer le dessin <img src=\"etoile.png\" style=\"width:120px;\">"
   ]
  },
  {
   "cell_type": "code",
   "execution_count": 33,
   "metadata": {},
   "outputs": [],
   "source": [
    "# votre code ici\n"
   ]
  },
  {
   "cell_type": "markdown",
   "metadata": {},
   "source": [
    "13. Programmer le dessin <img src=\"rosace.png\" style=\"width:120px;\">"
   ]
  },
  {
   "cell_type": "code",
   "execution_count": 34,
   "metadata": {},
   "outputs": [],
   "source": [
    "# votre code ici\n"
   ]
  },
  {
   "cell_type": "markdown",
   "metadata": {},
   "source": [
    "14. Programmer le dessin <img src=\"etoile6.png\" style=\"width:120px;\">"
   ]
  },
  {
   "cell_type": "code",
   "execution_count": null,
   "metadata": {},
   "outputs": [],
   "source": [
    "# votre code ici\n"
   ]
  }
 ],
 "metadata": {
  "kernelspec": {
   "display_name": "Python 3",
   "language": "python",
   "name": "python3"
  },
  "language_info": {
   "codemirror_mode": {
    "name": "ipython",
    "version": 3
   },
   "file_extension": ".py",
   "mimetype": "text/x-python",
   "name": "python",
   "nbconvert_exporter": "python",
   "pygments_lexer": "ipython3",
   "version": "3.7.3"
  }
 },
 "nbformat": 4,
 "nbformat_minor": 2
}
